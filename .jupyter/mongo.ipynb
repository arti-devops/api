{
 "cells": [
  {
   "cell_type": "code",
   "execution_count": 59,
   "metadata": {},
   "outputs": [],
   "source": [
    "import os\n",
    "import sys\n",
    "parent_dir = os.path.dirname(os.getcwd())\n",
    "sys.path.append(parent_dir)"
   ]
  },
  {
   "cell_type": "code",
   "execution_count": 60,
   "metadata": {},
   "outputs": [],
   "source": [
    "from pymongo import MongoClient\n",
    "conn = MongoClient(port=5001)"
   ]
  },
  {
   "cell_type": "code",
   "execution_count": 61,
   "metadata": {},
   "outputs": [],
   "source": [
    "\n",
    "import re\n",
    "from bson import ObjectId\n",
    "from schemas.device import devicesEntity, deviceEntity"
   ]
  },
  {
   "cell_type": "code",
   "execution_count": 62,
   "metadata": {},
   "outputs": [
    {
     "data": {
      "text/plain": [
       "{'device_id': '64a85c62d3e1d3aa08a0c521',\n",
       " 'device_user': 'DG ARTI',\n",
       " 'device_post_number': 101,\n",
       " 'device_brand': 'Yealink',\n",
       " 'device_brand_model': 'T48U',\n",
       " 'device_ip_address': '192.168.0.55',\n",
       " 'device_status': 'connected',\n",
       " 'device_serial_number': 'N/A'}"
      ]
     },
     "execution_count": 62,
     "metadata": {},
     "output_type": "execute_result"
    }
   ],
   "source": [
    "devicesEntity(conn.dsi.devices.find())[1]"
   ]
  },
  {
   "cell_type": "code",
   "execution_count": 63,
   "metadata": {},
   "outputs": [
    {
     "data": {
      "text/plain": [
       "[{'device_id': '64a85c62d3e1d3aa08a0c540',\n",
       "  'device_user': 'CISSE ALASSANE',\n",
       "  'device_post_number': 304,\n",
       "  'device_brand': 'Yealink',\n",
       "  'device_brand_model': 'T33G',\n",
       "  'device_ip_address': '192.168.0.172',\n",
       "  'device_status': 'connected',\n",
       "  'device_serial_number': 'N/A'}]"
      ]
     },
     "execution_count": 63,
     "metadata": {},
     "output_type": "execute_result"
    }
   ],
   "source": [
    "#devicesEntity(conn.dsi.devices.find_one({\"_id\": ObjectId(\"64a85c62d3e1d3aa08a0c521\")}))\n",
    "#r = conn.dsi.devices.find_one({\"_id\": ObjectId(\"64a85c62d3e1d3aa08a0c521\")})\n",
    "query = {\"device_user\": {\"$regex\": re.compile(\"CISSE\")}}\n",
    "devicesEntity(conn.dsi.devices.find(query))"
   ]
  },
  {
   "cell_type": "code",
   "execution_count": null,
   "metadata": {},
   "outputs": [],
   "source": []
  },
  {
   "attachments": {},
   "cell_type": "markdown",
   "metadata": {},
   "source": [
    "Filter via mongodb query"
   ]
  },
  {
   "cell_type": "code",
   "execution_count": 66,
   "metadata": {},
   "outputs": [
    {
     "data": {
      "text/plain": [
       "{'devices': [{'device_id': '64a85c62d3e1d3aa08a0c539',\n",
       "   'device_user': 'AFFANOU LISETTE',\n",
       "   'device_post_number': 902,\n",
       "   'device_brand': 'Grandstream',\n",
       "   'device_brand_model': 'GXP1625',\n",
       "   'device_ip_address': '192.168.0.179',\n",
       "   'device_status': 'connected',\n",
       "   'device_serial_number': 'N/A'},\n",
       "  {'device_id': '64a85c62d3e1d3aa08a0c527',\n",
       "   'device_user': 'AMON HENRI FREDERIC',\n",
       "   'device_post_number': 601,\n",
       "   'device_brand': 'Yealink',\n",
       "   'device_brand_model': 'T33G',\n",
       "   'device_ip_address': '192.168.0.233',\n",
       "   'device_status': 'connected',\n",
       "   'device_serial_number': 'N/A'},\n",
       "  {'device_id': '64a85c62d3e1d3aa08a0c52b',\n",
       "   'device_user': 'ANGOUA GUY CHARLES',\n",
       "   'device_post_number': 302,\n",
       "   'device_brand': 'Yealink',\n",
       "   'device_brand_model': 'T33G',\n",
       "   'device_ip_address': '192.168.0.137',\n",
       "   'device_status': 'connected',\n",
       "   'device_serial_number': 'N/A'},\n",
       "  {'device_id': '64a85c62d3e1d3aa08a0c537',\n",
       "   'device_user': 'BAILLY ERIC',\n",
       "   'device_post_number': 203,\n",
       "   'device_brand': 'Grandstream',\n",
       "   'device_brand_model': 'GXP1625',\n",
       "   'device_ip_address': '192.168.0.175',\n",
       "   'device_status': 'connected',\n",
       "   'device_serial_number': 'N/A'},\n",
       "  {'device_id': '64a85c62d3e1d3aa08a0c529',\n",
       "   'device_user': 'BEN MOURAD',\n",
       "   'device_post_number': 402,\n",
       "   'device_brand': 'Yealink',\n",
       "   'device_brand_model': 'T33G',\n",
       "   'device_ip_address': '192.168.0.101',\n",
       "   'device_status': 'connected',\n",
       "   'device_serial_number': 'N/A'},\n",
       "  {'device_id': '64a85c62d3e1d3aa08a0c531',\n",
       "   'device_user': 'BOKOUA SEBASTIEN',\n",
       "   'device_post_number': 104,\n",
       "   'device_brand': 'Yealink',\n",
       "   'device_brand_model': 'T33G',\n",
       "   'device_ip_address': '192.168.0.119',\n",
       "   'device_status': 'connected',\n",
       "   'device_serial_number': 'N/A'},\n",
       "  {'device_id': '64a85c62d3e1d3aa08a0c523',\n",
       "   'device_user': 'CANTINE',\n",
       "   'device_post_number': 208,\n",
       "   'device_brand': 'Yealink',\n",
       "   'device_brand_model': 'T33G',\n",
       "   'device_ip_address': '192.168.0.118',\n",
       "   'device_status': 'connected',\n",
       "   'device_serial_number': 'N/A'},\n",
       "  {'device_id': '64a85c62d3e1d3aa08a0c534',\n",
       "   'device_user': \"CHARGES D'ETUDES\",\n",
       "   'device_post_number': 105,\n",
       "   'device_brand': 'Grandstream',\n",
       "   'device_brand_model': 'GXP1625',\n",
       "   'device_ip_address': '192.168.0.227',\n",
       "   'device_status': 'connected',\n",
       "   'device_serial_number': 'N/A'},\n",
       "  {'device_id': '64a85c62d3e1d3aa08a0c540',\n",
       "   'device_user': 'CISSE ALASSANE',\n",
       "   'device_post_number': 304,\n",
       "   'device_brand': 'Yealink',\n",
       "   'device_brand_model': 'T33G',\n",
       "   'device_ip_address': '192.168.0.172',\n",
       "   'device_status': 'connected',\n",
       "   'device_serial_number': 'N/A'},\n",
       "  {'device_id': '64a85c62d3e1d3aa08a0c535',\n",
       "   'device_user': 'COULIBALY MOUSSA',\n",
       "   'device_post_number': 604,\n",
       "   'device_brand': 'Grandstream',\n",
       "   'device_brand_model': 'GXP1625',\n",
       "   'device_ip_address': '192.168.0.162',\n",
       "   'device_status': 'connected',\n",
       "   'device_serial_number': 'N/A'}],\n",
       " 'totalPages': 4,\n",
       " 'totalDevices': 36,\n",
       " 'page': 1}"
      ]
     },
     "execution_count": 66,
     "metadata": {},
     "output_type": "execute_result"
    }
   ],
   "source": [
    "devicesdb = conn.dsi.devices\n",
    "\n",
    "q = \"\" \n",
    "brand = \"\"\n",
    "status = None\n",
    "sort_by = \"device_user\" #TODO need defautl value\n",
    "items_per_page = 10\n",
    "page = 1\n",
    "\n",
    "query = {}\n",
    "\n",
    "# Search and filter devices\n",
    "if q:\n",
    "    query[\"device_user\"] = {\"$regex\": q, \"$options\": \"i\"}\n",
    "if brand:\n",
    "    query[\"device_brand_name\"] = {\"$regex\": brand, \"$options\": \"i\"}\n",
    "if status:\n",
    "    query[\"device_status\"] = {\"$regex\": status, \"$options\": \"i\"}\n",
    "\n",
    "# Count the total number of devices\n",
    "total_devices = devicesdb.count_documents(query)\n",
    "\n",
    "# Calculate pagination\n",
    "total_pages = (total_devices + items_per_page - 1) // items_per_page\n",
    "page = min(page, total_pages)\n",
    "if page == 0: page = 1\n",
    "\n",
    "# Apply pagination and retrieve the devices\n",
    "paginated_devices = devicesdb.find(query).sort(sort_by).skip((page - 1) * items_per_page).limit(items_per_page)\n",
    "\n",
    "\n",
    "\n",
    "# Process the devices\n",
    "devices = devicesEntity(paginated_devices)\n",
    "\n",
    "# Construct the response\n",
    "response = {\n",
    "    \"devices\": devices,\n",
    "    \"totalPages\": total_pages,\n",
    "    \"totalDevices\": total_devices,\n",
    "    \"page\": page\n",
    "}\n",
    "\n",
    "response"
   ]
  }
 ],
 "metadata": {
  "kernelspec": {
   "display_name": ".venv",
   "language": "python",
   "name": "python3"
  },
  "language_info": {
   "codemirror_mode": {
    "name": "ipython",
    "version": 3
   },
   "file_extension": ".py",
   "mimetype": "text/x-python",
   "name": "python",
   "nbconvert_exporter": "python",
   "pygments_lexer": "ipython3",
   "version": "3.8.10"
  },
  "orig_nbformat": 4
 },
 "nbformat": 4,
 "nbformat_minor": 2
}
