{
 "cells": [
  {
   "cell_type": "code",
   "execution_count": 1,
   "metadata": {},
   "outputs": [],
   "source": [
    "import pandas as pd\n",
    "from datetime import datetime\n",
    "from bson.timestamp import Timestamp"
   ]
  },
  {
   "cell_type": "code",
   "execution_count": 2,
   "metadata": {},
   "outputs": [],
   "source": [
    "from pymongo import MongoClient\n",
    "conn = MongoClient(\"mongodb://localhost\",port=27017)\n",
    "#conn = MongoClient(\"mongodb://192.168.0.9\",port=27017)\n",
    "logsdb = conn.dsi.logs"
   ]
  },
  {
   "cell_type": "code",
   "execution_count": 3,
   "metadata": {},
   "outputs": [
    {
     "data": {
      "text/plain": [
       "275"
      ]
     },
     "execution_count": 3,
     "metadata": {},
     "output_type": "execute_result"
    }
   ],
   "source": [
    "sdate = datetime.strptime(\"2023-04-01\", \"%Y-%m-%d\")\n",
    "edate = datetime.strptime(\"2023-04-30\", \"%Y-%m-%d\")\n",
    "\n",
    "query = {\"log_date\":{\n",
    "    \"$gte\": sdate,\n",
    "    \"$lte\": edate \n",
    "}}\n",
    "logsdb.count_documents(query)"
   ]
  },
  {
   "cell_type": "code",
   "execution_count": 8,
   "metadata": {},
   "outputs": [],
   "source": [
    "import os\n",
    "import sys\n",
    "parent_dir = os.path.dirname(os.getcwd())\n",
    "sys.path.append(parent_dir)"
   ]
  },
  {
   "cell_type": "code",
   "execution_count": 9,
   "metadata": {},
   "outputs": [],
   "source": [
    "from src.modules.rh.transmute.log import query_month_log_count, query_month_late_count"
   ]
  },
  {
   "cell_type": "code",
   "execution_count": 14,
   "metadata": {},
   "outputs": [],
   "source": [
    "df_log = pd.DataFrame(query_month_log_count(\"2023-04-01\",\"2023-04-30\"))\n",
    "df_late = pd.DataFrame(query_month_late_count(\"2023-04-01\",\"2023-04-30\"))"
   ]
  },
  {
   "cell_type": "code",
   "execution_count": 17,
   "metadata": {},
   "outputs": [
    {
     "data": {
      "text/html": [
       "<div>\n",
       "<style scoped>\n",
       "    .dataframe tbody tr th:only-of-type {\n",
       "        vertical-align: middle;\n",
       "    }\n",
       "\n",
       "    .dataframe tbody tr th {\n",
       "        vertical-align: top;\n",
       "    }\n",
       "\n",
       "    .dataframe thead th {\n",
       "        text-align: right;\n",
       "    }\n",
       "</style>\n",
       "<table border=\"1\" class=\"dataframe\">\n",
       "  <thead>\n",
       "    <tr style=\"text-align: right;\">\n",
       "      <th></th>\n",
       "      <th>log_member_id</th>\n",
       "      <th>log_member_name</th>\n",
       "      <th>log_month_count</th>\n",
       "    </tr>\n",
       "  </thead>\n",
       "  <tbody>\n",
       "    <tr>\n",
       "      <th>0</th>\n",
       "      <td>2301021S</td>\n",
       "      <td>SEYNOU Aîcha</td>\n",
       "      <td>15</td>\n",
       "    </tr>\n",
       "  </tbody>\n",
       "</table>\n",
       "</div>"
      ],
      "text/plain": [
       "  log_member_id log_member_name  log_month_count\n",
       "0      2301021S    SEYNOU Aîcha               15"
      ]
     },
     "execution_count": 17,
     "metadata": {},
     "output_type": "execute_result"
    }
   ],
   "source": [
    "df_log.head(1)"
   ]
  },
  {
   "cell_type": "code",
   "execution_count": 18,
   "metadata": {},
   "outputs": [
    {
     "data": {
      "text/html": [
       "<div>\n",
       "<style scoped>\n",
       "    .dataframe tbody tr th:only-of-type {\n",
       "        vertical-align: middle;\n",
       "    }\n",
       "\n",
       "    .dataframe tbody tr th {\n",
       "        vertical-align: top;\n",
       "    }\n",
       "\n",
       "    .dataframe thead th {\n",
       "        text-align: right;\n",
       "    }\n",
       "</style>\n",
       "<table border=\"1\" class=\"dataframe\">\n",
       "  <thead>\n",
       "    <tr style=\"text-align: right;\">\n",
       "      <th></th>\n",
       "      <th>log_member_id</th>\n",
       "      <th>log_member_name</th>\n",
       "      <th>log_month_late_count</th>\n",
       "    </tr>\n",
       "  </thead>\n",
       "  <tbody>\n",
       "    <tr>\n",
       "      <th>0</th>\n",
       "      <td>2170820Y</td>\n",
       "      <td>YAO Anyéla Epse ADOU</td>\n",
       "      <td>9</td>\n",
       "    </tr>\n",
       "  </tbody>\n",
       "</table>\n",
       "</div>"
      ],
      "text/plain": [
       "  log_member_id       log_member_name  log_month_late_count\n",
       "0      2170820Y  YAO Anyéla Epse ADOU                     9"
      ]
     },
     "execution_count": 18,
     "metadata": {},
     "output_type": "execute_result"
    }
   ],
   "source": [
    "df_late.head(1)"
   ]
  },
  {
   "cell_type": "code",
   "execution_count": 20,
   "metadata": {},
   "outputs": [
    {
     "data": {
      "text/plain": [
       "((20, 3), (19, 3))"
      ]
     },
     "execution_count": 20,
     "metadata": {},
     "output_type": "execute_result"
    }
   ],
   "source": [
    "df_log.shape, df_late.shape"
   ]
  },
  {
   "cell_type": "code",
   "execution_count": 31,
   "metadata": {},
   "outputs": [
    {
     "data": {
      "text/html": [
       "<div>\n",
       "<style scoped>\n",
       "    .dataframe tbody tr th:only-of-type {\n",
       "        vertical-align: middle;\n",
       "    }\n",
       "\n",
       "    .dataframe tbody tr th {\n",
       "        vertical-align: top;\n",
       "    }\n",
       "\n",
       "    .dataframe thead th {\n",
       "        text-align: right;\n",
       "    }\n",
       "</style>\n",
       "<table border=\"1\" class=\"dataframe\">\n",
       "  <thead>\n",
       "    <tr style=\"text-align: right;\">\n",
       "      <th></th>\n",
       "      <th>log_member_id</th>\n",
       "      <th>log_member_name</th>\n",
       "      <th>log_month_count</th>\n",
       "      <th>log_month_late_count</th>\n",
       "    </tr>\n",
       "  </thead>\n",
       "  <tbody>\n",
       "    <tr>\n",
       "      <th>0</th>\n",
       "      <td>2301021S</td>\n",
       "      <td>SEYNOU Aîcha</td>\n",
       "      <td>15</td>\n",
       "      <td>15.0</td>\n",
       "    </tr>\n",
       "    <tr>\n",
       "      <th>1</th>\n",
       "      <td>1240821W</td>\n",
       "      <td>WILSON Honoré Georges</td>\n",
       "      <td>13</td>\n",
       "      <td>13.0</td>\n",
       "    </tr>\n",
       "    <tr>\n",
       "      <th>2</th>\n",
       "      <td>1410922F</td>\n",
       "      <td>FOFANA Simon</td>\n",
       "      <td>17</td>\n",
       "      <td>11.0</td>\n",
       "    </tr>\n",
       "    <tr>\n",
       "      <th>3</th>\n",
       "      <td>1150820C</td>\n",
       "      <td>COULIBALY Moussa</td>\n",
       "      <td>16</td>\n",
       "      <td>0.0</td>\n",
       "    </tr>\n",
       "    <tr>\n",
       "      <th>4</th>\n",
       "      <td>1080720A</td>\n",
       "      <td>ANGOUA Guy-Charles</td>\n",
       "      <td>16</td>\n",
       "      <td>15.0</td>\n",
       "    </tr>\n",
       "  </tbody>\n",
       "</table>\n",
       "</div>"
      ],
      "text/plain": [
       "  log_member_id        log_member_name  log_month_count  log_month_late_count\n",
       "0      2301021S           SEYNOU Aîcha               15                  15.0\n",
       "1      1240821W  WILSON Honoré Georges               13                  13.0\n",
       "2      1410922F           FOFANA Simon               17                  11.0\n",
       "3      1150820C       COULIBALY Moussa               16                   0.0\n",
       "4      1080720A     ANGOUA Guy-Charles               16                  15.0"
      ]
     },
     "execution_count": 31,
     "metadata": {},
     "output_type": "execute_result"
    }
   ],
   "source": [
    "df = pd.merge(pd.DataFrame(df_log), pd.DataFrame(df_late),\n",
    "          how=\"left\", on=\"log_member_id\", suffixes=('', '_y')).filter(regex='^(?!.*_y)')\n",
    "df.fillna(0).head()"
   ]
  },
  {
   "cell_type": "code",
   "execution_count": 28,
   "metadata": {},
   "outputs": [
    {
     "data": {
      "text/plain": [
       "[{'log_member_id': '2301021S',\n",
       "  'log_member_name': 'SEYNOU Aîcha',\n",
       "  'log_month_count': 15,\n",
       "  'log_month_late_count': 15.0},\n",
       " {'log_member_id': '1240821W',\n",
       "  'log_member_name': 'WILSON Honoré Georges',\n",
       "  'log_month_count': 13,\n",
       "  'log_month_late_count': 13.0},\n",
       " {'log_member_id': '1410922F',\n",
       "  'log_member_name': 'FOFANA Simon',\n",
       "  'log_month_count': 17,\n",
       "  'log_month_late_count': 11.0},\n",
       " {'log_member_id': '1150820C',\n",
       "  'log_member_name': 'COULIBALY Moussa',\n",
       "  'log_month_count': 16,\n",
       "  'log_month_late_count': nan},\n",
       " {'log_member_id': '1080720A',\n",
       "  'log_member_name': 'ANGOUA Guy-Charles',\n",
       "  'log_month_count': 16,\n",
       "  'log_month_late_count': 15.0},\n",
       " {'log_member_id': '2140820M',\n",
       "  'log_member_name': 'MANOUAN Nina Epse KONE',\n",
       "  'log_month_count': 13,\n",
       "  'log_month_late_count': 11.0},\n",
       " {'log_member_id': '2170820Y',\n",
       "  'log_member_name': 'YAO Anyéla Epse ADOU',\n",
       "  'log_month_count': 13,\n",
       "  'log_month_late_count': 9.0},\n",
       " {'log_member_id': '1100720S',\n",
       "  'log_member_name': 'SAMBARE Zakaria',\n",
       "  'log_month_count': 5,\n",
       "  'log_month_late_count': 4.0},\n",
       " {'log_member_id': '1250921O',\n",
       "  'log_member_name': 'OLOUI Yves',\n",
       "  'log_month_count': 14,\n",
       "  'log_month_late_count': 14.0},\n",
       " {'log_member_id': '1350322K',\n",
       "  'log_member_name': 'KOUADIO Edmond',\n",
       "  'log_month_count': 17,\n",
       "  'log_month_late_count': 17.0},\n",
       " {'log_member_id': '1110720K',\n",
       "  'log_member_name': 'KOSSIKE Kango Séraphin',\n",
       "  'log_month_count': 8,\n",
       "  'log_month_late_count': 8.0},\n",
       " {'log_member_id': '1210221K',\n",
       "  'log_member_name': 'KOUASSI Adrien',\n",
       "  'log_month_count': 18,\n",
       "  'log_month_late_count': 18.0},\n",
       " {'log_member_id': '1260921C',\n",
       "  'log_member_name': 'CISSE Alassane',\n",
       "  'log_month_count': 16,\n",
       "  'log_month_late_count': 16.0},\n",
       " {'log_member_id': '1230521B',\n",
       "  'log_member_name': 'BEN Mourad',\n",
       "  'log_month_count': 9,\n",
       "  'log_month_late_count': 9.0},\n",
       " {'log_member_id': '1340222E',\n",
       "  'log_member_name': 'ENAN Jean-Jacques',\n",
       "  'log_month_count': 4,\n",
       "  'log_month_late_count': 4.0},\n",
       " {'log_member_id': '2060620N',\n",
       "  'log_member_name': 'NOGBOU Paule',\n",
       "  'log_month_count': 17,\n",
       "  'log_month_late_count': 14.0},\n",
       " {'log_member_id': '1400822D',\n",
       "  'log_member_name': 'DJIRE Lamine',\n",
       "  'log_month_count': 17,\n",
       "  'log_month_late_count': 16.0},\n",
       " {'log_member_id': '1360322G',\n",
       "  'log_member_name': 'GNAGNE Mel Patrick',\n",
       "  'log_month_count': 14,\n",
       "  'log_month_late_count': 10.0},\n",
       " {'log_member_id': '1281021B',\n",
       "  'log_member_name': 'BOKOUA Sébastien',\n",
       "  'log_month_count': 16,\n",
       "  'log_month_late_count': 14.0},\n",
       " {'log_member_id': '1180820K',\n",
       "  'log_member_name': 'KABLAN Jean Claude',\n",
       "  'log_month_count': 17,\n",
       "  'log_month_late_count': 17.0}]"
      ]
     },
     "execution_count": 28,
     "metadata": {},
     "output_type": "execute_result"
    }
   ],
   "source": [
    "df.to_dict(orient=\"records\")"
   ]
  }
 ],
 "metadata": {
  "kernelspec": {
   "display_name": ".venv",
   "language": "python",
   "name": "python3"
  },
  "language_info": {
   "codemirror_mode": {
    "name": "ipython",
    "version": 3
   },
   "file_extension": ".py",
   "mimetype": "text/x-python",
   "name": "python",
   "nbconvert_exporter": "python",
   "pygments_lexer": "ipython3",
   "version": "3.10.6"
  },
  "orig_nbformat": 4
 },
 "nbformat": 4,
 "nbformat_minor": 2
}
