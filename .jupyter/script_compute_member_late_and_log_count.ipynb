{
 "cells": [
  {
   "cell_type": "code",
   "execution_count": 1,
   "metadata": {},
   "outputs": [],
   "source": [
    "import pandas as pd\n",
    "from datetime import datetime\n",
    "from bson.timestamp import Timestamp"
   ]
  },
  {
   "cell_type": "code",
   "execution_count": 3,
   "metadata": {},
   "outputs": [],
   "source": [
    "from pymongo import MongoClient\n",
    "#conn = MongoClient(\"mongodb://localhost\",port=5001)\n",
    "conn = MongoClient(\"mongodb://192.168.0.9\",port=27017)\n",
    "logsdb = conn.dsi.log"
   ]
  },
  {
   "cell_type": "code",
   "execution_count": 9,
   "metadata": {},
   "outputs": [
    {
     "ename": "AttributeError",
     "evalue": "'method_descriptor' object has no attribute 'strftime'",
     "output_type": "error",
     "traceback": [
      "\u001b[0;31m---------------------------------------------------------------------------\u001b[0m",
      "\u001b[0;31mAttributeError\u001b[0m                            Traceback (most recent call last)",
      "Cell \u001b[0;32mIn[9], line 1\u001b[0m\n\u001b[0;32m----> 1\u001b[0m sdate \u001b[39m=\u001b[39m datetime\u001b[39m.\u001b[39;49mdate\u001b[39m.\u001b[39;49mstrftime(\u001b[39m\"\u001b[39m\u001b[39m2023-04-01\u001b[39m\u001b[39m\"\u001b[39m, \u001b[39m\"\u001b[39m\u001b[39m%\u001b[39m\u001b[39mY-\u001b[39m\u001b[39m%\u001b[39m\u001b[39mm-\u001b[39m\u001b[39m%d\u001b[39;00m\u001b[39m\"\u001b[39m)\n\u001b[1;32m      2\u001b[0m edate \u001b[39m=\u001b[39m datetime\u001b[39m.\u001b[39mdate\u001b[39m.\u001b[39mstrftime(\u001b[39m\"\u001b[39m\u001b[39m2023-04-30\u001b[39m\u001b[39m\"\u001b[39m, \u001b[39m\"\u001b[39m\u001b[39m%\u001b[39m\u001b[39mY-\u001b[39m\u001b[39m%\u001b[39m\u001b[39mm-\u001b[39m\u001b[39m%d\u001b[39;00m\u001b[39m\"\u001b[39m)\n\u001b[1;32m      4\u001b[0m query \u001b[39m=\u001b[39m {\u001b[39m\"\u001b[39m\u001b[39mlog_date\u001b[39m\u001b[39m\"\u001b[39m:{\n\u001b[1;32m      5\u001b[0m     \u001b[39m\"\u001b[39m\u001b[39m$gte\u001b[39m\u001b[39m\"\u001b[39m: sdate,\n\u001b[1;32m      6\u001b[0m     \u001b[39m\"\u001b[39m\u001b[39m$lte\u001b[39m\u001b[39m\"\u001b[39m: edate \n\u001b[1;32m      7\u001b[0m }}\n",
      "\u001b[0;31mAttributeError\u001b[0m: 'method_descriptor' object has no attribute 'strftime'"
     ]
    }
   ],
   "source": [
    "sdate = datetime.strftime(\"2023-04-01\", \"%Y-%m-%d\")\n",
    "edate = datetime.strftime(\"2023-04-30\", \"%Y-%m-%d\")\n",
    "\n",
    "query = {\"log_date\":{\n",
    "    \"$gte\": sdate,\n",
    "    \"$lte\": edate \n",
    "}}\n",
    "pd.DataFrame(logsdb.count_documents(query))"
   ]
  }
 ],
 "metadata": {
  "kernelspec": {
   "display_name": ".venv",
   "language": "python",
   "name": "python3"
  },
  "language_info": {
   "codemirror_mode": {
    "name": "ipython",
    "version": 3
   },
   "file_extension": ".py",
   "mimetype": "text/x-python",
   "name": "python",
   "nbconvert_exporter": "python",
   "pygments_lexer": "ipython3",
   "version": "3.8.10"
  },
  "orig_nbformat": 4
 },
 "nbformat": 4,
 "nbformat_minor": 2
}
