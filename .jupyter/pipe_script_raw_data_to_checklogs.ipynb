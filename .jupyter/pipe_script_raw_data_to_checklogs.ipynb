{
 "cells": [
  {
   "cell_type": "code",
   "execution_count": 1,
   "metadata": {},
   "outputs": [],
   "source": [
    "import os\n",
    "import sys\n",
    "import pandas as pd\n",
    "\n",
    "parent_dir = os.path.dirname(os.getcwd())\n",
    "sys.path.append(parent_dir)\n",
    "\n",
    "from src.utils.process_dates import create_timestamp_from_date_and_time\n",
    "\n",
    "from src.utils.process_raw_data_pipe import convert_and_save_data as rwd_filter\n",
    "from src.utils.process_raw_data_pipe import process_attendance_data as process_data"
   ]
  },
  {
   "cell_type": "code",
   "execution_count": 2,
   "metadata": {},
   "outputs": [],
   "source": [
    "link_raw = \"data/Original Records Report_JAN2023_à_JUIN 2023.csv\"\n",
    "link_filter = parent_dir + \"/src/utils/data/personnel_ARTI_2023_no_directors.csv\""
   ]
  },
  {
   "cell_type": "code",
   "execution_count": 3,
   "metadata": {},
   "outputs": [],
   "source": [
    "filtered_data, link_filter = rwd_filter(link_raw, link_filter)"
   ]
  },
  {
   "cell_type": "code",
   "execution_count": 4,
   "metadata": {},
   "outputs": [],
   "source": [
    "logs = process_data(filtered_data, link_filter)\n",
    "#df.to_csv(\"data/out/checklogs_raw_20230721.csv\")"
   ]
  },
  {
   "cell_type": "code",
   "execution_count": 5,
   "metadata": {},
   "outputs": [],
   "source": [
    "logs[\"log_checkin\"] = logs.apply(create_timestamp_from_date_and_time, args=(\"log_date\",\"log_checkin\",), axis=1)\n",
    "logs[\"log_checkout\"] = logs.apply(create_timestamp_from_date_and_time, args=(\"log_date\",\"log_checkout\",), axis=1)\n",
    "logs['log_date'] = pd.to_datetime(logs['log_date'])"
   ]
  },
  {
   "cell_type": "markdown",
   "metadata": {},
   "source": [
    "Missing code to insert in mongodb"
   ]
  },
  {
   "cell_type": "code",
   "execution_count": 6,
   "metadata": {},
   "outputs": [
    {
     "data": {
      "text/plain": [
       "<pymongo.results.InsertManyResult at 0x7fd413e07730>"
      ]
     },
     "execution_count": 6,
     "metadata": {},
     "output_type": "execute_result"
    }
   ],
   "source": [
    "from src.config.db import nlogsdb\n",
    "nlogsdb.insert_many(logs.to_dict(orient=\"records\"))"
   ]
  }
 ],
 "metadata": {
  "kernelspec": {
   "display_name": ".venv",
   "language": "python",
   "name": "python3"
  },
  "language_info": {
   "codemirror_mode": {
    "name": "ipython",
    "version": 3
   },
   "file_extension": ".py",
   "mimetype": "text/x-python",
   "name": "python",
   "nbconvert_exporter": "python",
   "pygments_lexer": "ipython3",
   "version": "3.10.6"
  },
  "orig_nbformat": 4
 },
 "nbformat": 4,
 "nbformat_minor": 2
}
