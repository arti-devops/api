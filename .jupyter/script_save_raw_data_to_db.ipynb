{
 "cells": [
  {
   "cell_type": "code",
   "execution_count": 3,
   "metadata": {},
   "outputs": [],
   "source": [
    "import os\n",
    "import sys\n",
    "import pandas as pd\n",
    "\n",
    "parent_dir = os.path.dirname(os.getcwd())\n",
    "sys.path.append(parent_dir)\n",
    "\n",
    "from src.utils.process_raw_data import filter_raw_log_data"
   ]
  },
  {
   "cell_type": "code",
   "execution_count": 4,
   "metadata": {},
   "outputs": [],
   "source": [
    "link_raw = \"data/Original Records Report_JAN2023_à_JUIN 2023.csv\"\n",
    "link_filter = parent_dir + \"/src/utils/data/members.csv\""
   ]
  },
  {
   "cell_type": "code",
   "execution_count": 5,
   "metadata": {},
   "outputs": [],
   "source": [
    "logs = filter_raw_log_data(link_raw, link_filter)"
   ]
  },
  {
   "cell_type": "code",
   "execution_count": 6,
   "metadata": {},
   "outputs": [],
   "source": [
    "def in_out(x):\n",
    "    if x[-1:]==\"1\": return \"IN\"\n",
    "    if x[-1:]==\"2\": return \"OUT\"\n",
    "\n",
    "logs[\"Gate\"] = logs['Attendance Check Point'].map(lambda x: in_out(x))\n",
    "logs[\"Date\"] = logs.Time.map(lambda x: x.split(\" \")[0])\n",
    "logs[\"Hour\"] = logs.Time.map(lambda x: x.split(\" \")[1])\n",
    "\n",
    "df = logs[[\"Matricule\",\"Name\",\"Date\",\"Hour\",\"Gate\",]].copy()\n",
    "df.dropna(inplace=True)\n",
    "df.rename(columns={\"Matricule\":\"log_member_id\",\"Name\":\"log_member_name\",\n",
    "                   \"Date\":\"log_date\",\"Hour\":\"log_time\",\"Gate\":\"log_gate\"}, \n",
    "          inplace=True)"
   ]
  },
  {
   "cell_type": "code",
   "execution_count": 7,
   "metadata": {},
   "outputs": [
    {
     "data": {
      "text/html": [
       "<div>\n",
       "<style scoped>\n",
       "    .dataframe tbody tr th:only-of-type {\n",
       "        vertical-align: middle;\n",
       "    }\n",
       "\n",
       "    .dataframe tbody tr th {\n",
       "        vertical-align: top;\n",
       "    }\n",
       "\n",
       "    .dataframe thead th {\n",
       "        text-align: right;\n",
       "    }\n",
       "</style>\n",
       "<table border=\"1\" class=\"dataframe\">\n",
       "  <thead>\n",
       "    <tr style=\"text-align: right;\">\n",
       "      <th></th>\n",
       "      <th>log_member_id</th>\n",
       "      <th>log_member_name</th>\n",
       "      <th>log_date</th>\n",
       "      <th>log_time</th>\n",
       "      <th>log_gate</th>\n",
       "    </tr>\n",
       "  </thead>\n",
       "  <tbody>\n",
       "    <tr>\n",
       "      <th>259</th>\n",
       "      <td>1390722B</td>\n",
       "      <td>ERIC BAILLY THEODORE</td>\n",
       "      <td>2023-03-10</td>\n",
       "      <td>11:26:03</td>\n",
       "      <td>OUT</td>\n",
       "    </tr>\n",
       "    <tr>\n",
       "      <th>260</th>\n",
       "      <td>1390722B</td>\n",
       "      <td>ERIC BAILLY THEODORE</td>\n",
       "      <td>2023-03-16</td>\n",
       "      <td>09:04:03</td>\n",
       "      <td>IN</td>\n",
       "    </tr>\n",
       "    <tr>\n",
       "      <th>261</th>\n",
       "      <td>1390722B</td>\n",
       "      <td>ERIC BAILLY THEODORE</td>\n",
       "      <td>2023-03-16</td>\n",
       "      <td>13:07:57</td>\n",
       "      <td>OUT</td>\n",
       "    </tr>\n",
       "    <tr>\n",
       "      <th>262</th>\n",
       "      <td>1390722B</td>\n",
       "      <td>ERIC BAILLY THEODORE</td>\n",
       "      <td>2023-03-16</td>\n",
       "      <td>14:24:59</td>\n",
       "      <td>IN</td>\n",
       "    </tr>\n",
       "    <tr>\n",
       "      <th>263</th>\n",
       "      <td>1390722B</td>\n",
       "      <td>ERIC BAILLY THEODORE</td>\n",
       "      <td>2023-03-16</td>\n",
       "      <td>20:03:05</td>\n",
       "      <td>OUT</td>\n",
       "    </tr>\n",
       "  </tbody>\n",
       "</table>\n",
       "</div>"
      ],
      "text/plain": [
       "    log_member_id       log_member_name    log_date  log_time log_gate\n",
       "259      1390722B  ERIC BAILLY THEODORE  2023-03-10  11:26:03      OUT\n",
       "260      1390722B  ERIC BAILLY THEODORE  2023-03-16  09:04:03       IN\n",
       "261      1390722B  ERIC BAILLY THEODORE  2023-03-16  13:07:57      OUT\n",
       "262      1390722B  ERIC BAILLY THEODORE  2023-03-16  14:24:59       IN\n",
       "263      1390722B  ERIC BAILLY THEODORE  2023-03-16  20:03:05      OUT"
      ]
     },
     "execution_count": 7,
     "metadata": {},
     "output_type": "execute_result"
    }
   ],
   "source": [
    "df.head()"
   ]
  }
 ],
 "metadata": {
  "kernelspec": {
   "display_name": ".venv",
   "language": "python",
   "name": "python3"
  },
  "language_info": {
   "codemirror_mode": {
    "name": "ipython",
    "version": 3
   },
   "file_extension": ".py",
   "mimetype": "text/x-python",
   "name": "python",
   "nbconvert_exporter": "python",
   "pygments_lexer": "ipython3",
   "version": "3.10.6"
  },
  "orig_nbformat": 4
 },
 "nbformat": 4,
 "nbformat_minor": 2
}
