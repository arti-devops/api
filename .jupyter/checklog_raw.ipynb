{
 "cells": [
  {
   "cell_type": "code",
   "execution_count": 35,
   "metadata": {},
   "outputs": [],
   "source": [
    "import pandas as pd"
   ]
  },
  {
   "cell_type": "code",
   "execution_count": 36,
   "metadata": {},
   "outputs": [],
   "source": [
    "logs = pd.read_csv(\"data/Original Records Report_JAN2023_à_JUIN 2023.csv\", encoding=\"latin-1\")"
   ]
  },
  {
   "cell_type": "code",
   "execution_count": 37,
   "metadata": {},
   "outputs": [
    {
     "data": {
      "text/plain": [
       "Index(['Person ID', 'Name', 'Department', 'Time', 'Attendance Status',\n",
       "       'Attendance Check Point', 'Custom Name', 'Data Source', 'Handling Type',\n",
       "       'Temperature', 'Abnormal'],\n",
       "      dtype='object')"
      ]
     },
     "execution_count": 37,
     "metadata": {},
     "output_type": "execute_result"
    }
   ],
   "source": [
    "def in_out(x):\n",
    "    if x[-1:]==\"1\": return \"IN\"\n",
    "    if x[-1:]==\"2\": return \"OUT\"\n",
    "logs.columns"
   ]
  },
  {
   "cell_type": "code",
   "execution_count": 38,
   "metadata": {},
   "outputs": [],
   "source": [
    "logs[\"Gate\"] = logs['Attendance Check Point'].map(lambda x: in_out(x))"
   ]
  },
  {
   "cell_type": "code",
   "execution_count": 39,
   "metadata": {},
   "outputs": [],
   "source": [
    "logs[\"Date\"]= logs.Time.map(lambda x: x.split(\" \")[0])\n",
    "logs[\"Hour\"]= logs.Time.map(lambda x: x.split(\" \")[1])"
   ]
  },
  {
   "cell_type": "code",
   "execution_count": 62,
   "metadata": {},
   "outputs": [],
   "source": [
    "df = logs[[\"Name\",\"Date\",\"Hour\",\"Gate\",]].copy()\n",
    "df.dropna(inplace=True)\n",
    "df.rename(columns={\"Name\":\"log_member_name\",\"Date\":\"log_date\",\"Hour\":\"log_time\",\"Gate\":\"log_gate\"}, \n",
    "          inplace=True)"
   ]
  },
  {
   "cell_type": "code",
   "execution_count": 65,
   "metadata": {},
   "outputs": [],
   "source": [
    "#df.to_csv(\"data/checklog_raw.csv\")"
   ]
  }
 ],
 "metadata": {
  "kernelspec": {
   "display_name": ".venv",
   "language": "python",
   "name": "python3"
  },
  "language_info": {
   "codemirror_mode": {
    "name": "ipython",
    "version": 3
   },
   "file_extension": ".py",
   "mimetype": "text/x-python",
   "name": "python",
   "nbconvert_exporter": "python",
   "pygments_lexer": "ipython3",
   "version": "3.10.6"
  },
  "orig_nbformat": 4
 },
 "nbformat": 4,
 "nbformat_minor": 2
}
