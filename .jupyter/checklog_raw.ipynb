{
 "cells": [
  {
   "cell_type": "code",
   "execution_count": 2,
   "metadata": {},
   "outputs": [],
   "source": [
    "import pandas as pd"
   ]
  },
  {
   "cell_type": "code",
   "execution_count": 3,
   "metadata": {},
   "outputs": [],
   "source": [
    "logs = pd.read_csv(\"data/Original Records Report_JAN2023_à_JUIN 2023.csv\", encoding=\"latin-1\")"
   ]
  },
  {
   "cell_type": "code",
   "execution_count": 27,
   "metadata": {},
   "outputs": [
    {
     "data": {
      "text/plain": [
       "Index(['Name', 'Time', 'Attendance Check Point', 'Matricule'], dtype='object')"
      ]
     },
     "execution_count": 27,
     "metadata": {},
     "output_type": "execute_result"
    }
   ],
   "source": [
    "def in_out(x):\n",
    "    if x[-1:]==\"1\": return \"IN\"\n",
    "    if x[-1:]==\"2\": return \"OUT\"\n",
    "logs.columns"
   ]
  },
  {
   "cell_type": "code",
   "execution_count": 28,
   "metadata": {},
   "outputs": [],
   "source": [
    "logs[\"Gate\"] = logs['Attendance Check Point'].map(lambda x: in_out(x))\n",
    "logs[\"Date\"]= logs.Time.map(lambda x: x.split(\" \")[0])\n",
    "logs[\"Hour\"]= logs.Time.map(lambda x: x.split(\" \")[1])"
   ]
  },
  {
   "cell_type": "code",
   "execution_count": 32,
   "metadata": {},
   "outputs": [],
   "source": [
    "df = logs[[\"Matricule\",\"Name\",\"Date\",\"Hour\",\"Gate\",]].copy()\n",
    "df.dropna(inplace=True)\n",
    "df.rename(columns={\"Matricule\":\"log_member_id\",\"Name\":\"log_member_name\",\n",
    "                   \"Date\":\"log_date\",\"Hour\":\"log_time\",\"Gate\":\"log_gate\"}, \n",
    "          inplace=True)"
   ]
  },
  {
   "cell_type": "code",
   "execution_count": 34,
   "metadata": {},
   "outputs": [],
   "source": [
    "df.to_csv(\"data/checklog_raw.csv\")"
   ]
  }
 ],
 "metadata": {
  "kernelspec": {
   "display_name": ".venv",
   "language": "python",
   "name": "python3"
  },
  "language_info": {
   "codemirror_mode": {
    "name": "ipython",
    "version": 3
   },
   "file_extension": ".py",
   "mimetype": "text/x-python",
   "name": "python",
   "nbconvert_exporter": "python",
   "pygments_lexer": "ipython3",
   "version": "3.10.6"
  },
  "orig_nbformat": 4
 },
 "nbformat": 4,
 "nbformat_minor": 2
}
