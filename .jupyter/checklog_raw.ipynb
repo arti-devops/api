{
 "cells": [
  {
   "cell_type": "code",
   "execution_count": 25,
   "metadata": {},
   "outputs": [],
   "source": [
    "import pandas as pd"
   ]
  },
  {
   "cell_type": "code",
   "execution_count": 26,
   "metadata": {},
   "outputs": [
    {
     "data": {
      "text/html": [
       "<div>\n",
       "<style scoped>\n",
       "    .dataframe tbody tr th:only-of-type {\n",
       "        vertical-align: middle;\n",
       "    }\n",
       "\n",
       "    .dataframe tbody tr th {\n",
       "        vertical-align: top;\n",
       "    }\n",
       "\n",
       "    .dataframe thead th {\n",
       "        text-align: right;\n",
       "    }\n",
       "</style>\n",
       "<table border=\"1\" class=\"dataframe\">\n",
       "  <thead>\n",
       "    <tr style=\"text-align: right;\">\n",
       "      <th></th>\n",
       "      <th>Name</th>\n",
       "      <th>Time</th>\n",
       "      <th>Attendance Check Point</th>\n",
       "      <th>Matricule</th>\n",
       "    </tr>\n",
       "  </thead>\n",
       "  <tbody>\n",
       "    <tr>\n",
       "      <th>0</th>\n",
       "      <td>ERIC BAILLY THEODORE</td>\n",
       "      <td>2023-03-10 11:26:00</td>\n",
       "      <td>CENTRALE 1 ARTI_Porte1_Lecteur de carte de sor...</td>\n",
       "      <td>1390722B</td>\n",
       "    </tr>\n",
       "    <tr>\n",
       "      <th>1</th>\n",
       "      <td>ERIC BAILLY THEODORE</td>\n",
       "      <td>2023-03-16 09:04:00</td>\n",
       "      <td>CENTRALE 1 ARTI_Porte1_Lecteur de carte d''ent...</td>\n",
       "      <td>1390722B</td>\n",
       "    </tr>\n",
       "  </tbody>\n",
       "</table>\n",
       "</div>"
      ],
      "text/plain": [
       "                   Name                 Time  \\\n",
       "0  ERIC BAILLY THEODORE  2023-03-10 11:26:00   \n",
       "1  ERIC BAILLY THEODORE  2023-03-16 09:04:00   \n",
       "\n",
       "                              Attendance Check Point Matricule  \n",
       "0  CENTRALE 1 ARTI_Porte1_Lecteur de carte de sor...  1390722B  \n",
       "1  CENTRALE 1 ARTI_Porte1_Lecteur de carte d''ent...  1390722B  "
      ]
     },
     "execution_count": 26,
     "metadata": {},
     "output_type": "execute_result"
    }
   ],
   "source": [
    "#logs = pd.read_csv(\"data/Original Records Report_JAN2023_à_JUIN 2023.csv\", encoding=\"latin-1\")\n",
    "logs = pd.read_csv(\"data/fichier_b_filtre.csv\", encoding=\"latin-1\")\n",
    "logs.head(2)"
   ]
  },
  {
   "cell_type": "code",
   "execution_count": 27,
   "metadata": {},
   "outputs": [
    {
     "data": {
      "text/plain": [
       "Index(['Name', 'Time', 'Attendance Check Point', 'Matricule'], dtype='object')"
      ]
     },
     "execution_count": 27,
     "metadata": {},
     "output_type": "execute_result"
    }
   ],
   "source": [
    "def in_out(x):\n",
    "    if x[-1:]==\"1\": return \"IN\"\n",
    "    if x[-1:]==\"2\": return \"OUT\"\n",
    "logs.columns"
   ]
  },
  {
   "cell_type": "code",
   "execution_count": 28,
   "metadata": {},
   "outputs": [],
   "source": [
    "logs[\"Gate\"] = logs['Attendance Check Point'].map(lambda x: in_out(x))"
   ]
  },
  {
   "cell_type": "code",
   "execution_count": 29,
   "metadata": {},
   "outputs": [],
   "source": [
    "logs[\"Date\"]= logs.Time.map(lambda x: x.split(\" \")[0])\n",
    "logs[\"Hour\"]= logs.Time.map(lambda x: x.split(\" \")[1])"
   ]
  },
  {
   "cell_type": "code",
   "execution_count": 32,
   "metadata": {},
   "outputs": [],
   "source": [
    "df = logs[[\"Matricule\",\"Name\",\"Date\",\"Hour\",\"Gate\",]].copy()\n",
    "df.dropna(inplace=True)\n",
    "df.rename(columns={\"Matricule\":\"log_member_id\",\"Name\":\"log_member_name\",\n",
    "                   \"Date\":\"log_date\",\"Hour\":\"log_time\",\"Gate\":\"log_gate\"}, \n",
    "          inplace=True)"
   ]
  },
  {
   "cell_type": "code",
   "execution_count": 34,
   "metadata": {},
   "outputs": [],
   "source": [
    "df.to_csv(\"data/checklog_raw.csv\")"
   ]
  },
  {
   "cell_type": "code",
   "execution_count": null,
   "metadata": {},
   "outputs": [],
   "source": []
  }
 ],
 "metadata": {
  "kernelspec": {
   "display_name": ".venv",
   "language": "python",
   "name": "python3"
  },
  "language_info": {
   "codemirror_mode": {
    "name": "ipython",
    "version": 3
   },
   "file_extension": ".py",
   "mimetype": "text/x-python",
   "name": "python",
   "nbconvert_exporter": "python",
   "pygments_lexer": "ipython3",
   "version": "3.10.6"
  },
  "orig_nbformat": 4
 },
 "nbformat": 4,
 "nbformat_minor": 2
}
