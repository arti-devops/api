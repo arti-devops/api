{
 "cells": [
  {
   "cell_type": "code",
   "execution_count": 6,
   "metadata": {},
   "outputs": [],
   "source": [
    "import pandas as pd\n",
    "from datetime import datetime\n",
    "from bson.timestamp import Timestamp"
   ]
  },
  {
   "cell_type": "code",
   "execution_count": 7,
   "metadata": {},
   "outputs": [],
   "source": [
    "from pymongo import MongoClient\n",
    "#conn = MongoClient(\"mongodb://192.168.0.9\",port=27017)\n",
    "conn = MongoClient(\"mongodb://localhost\",port=27017)\n",
    "checklogdb = conn.dsi.logs"
   ]
  },
  {
   "attachments": {},
   "cell_type": "markdown",
   "metadata": {},
   "source": [
    "La problematique concerne uniquement l'entrée principale des agents."
   ]
  },
  {
   "attachments": {},
   "cell_type": "markdown",
   "metadata": {},
   "source": [
    "Inclure le code de transformation des données brutes en checklog.csv"
   ]
  },
  {
   "cell_type": "code",
   "execution_count": 8,
   "metadata": {},
   "outputs": [],
   "source": [
    "presences = pd.read_csv(\"data/checklog.csv\")\n",
    "\n",
    "def create_timestamp(line, col_date, col_time):\n",
    "    datetime_str = f\"{line[col_date]} {line[col_time]}\"\n",
    "    try:\n",
    "        datetime_obj = datetime.strptime(datetime_str, \"%Y-%m-%d %H:%M:%S\")\n",
    "    except ValueError:\n",
    "        datetime_obj = datetime.strptime(datetime_str, \"%m/%d/%Y %H:%M:%S\")\n",
    "\n",
    "    return Timestamp(int(datetime_obj.timestamp()), 1).as_datetime()\n",
    "\n",
    "def create_datetime(row):\n",
    "    try:\n",
    "        return datetime.strptime(row, \"%Y-%m-%d\")\n",
    "    except ValueError:\n",
    "        return datetime.strptime(row, \"%m/%d/%Y\")\n",
    "\n",
    "presences[\"log_checkin\"] = presences.apply(create_timestamp, args=(\"log_date\",\"log_checkin\",), axis=1)\n",
    "presences[\"log_checkout\"] = presences.apply(create_timestamp, args=(\"log_date\",\"log_checkout\",), axis=1)\n",
    "presences[\"log_date\"] = presences.log_date.map(lambda x: create_datetime(x))\n",
    "\n",
    "presences.to_csv(\"data/out.csv\")"
   ]
  },
  {
   "cell_type": "code",
   "execution_count": 11,
   "metadata": {},
   "outputs": [],
   "source": [
    "#checklogdb.insert_many(presences.to_dict(orient=\"records\"))"
   ]
  },
  {
   "cell_type": "code",
   "execution_count": 10,
   "metadata": {},
   "outputs": [
    {
     "data": {
      "text/html": [
       "<div>\n",
       "<style scoped>\n",
       "    .dataframe tbody tr th:only-of-type {\n",
       "        vertical-align: middle;\n",
       "    }\n",
       "\n",
       "    .dataframe tbody tr th {\n",
       "        vertical-align: top;\n",
       "    }\n",
       "\n",
       "    .dataframe thead th {\n",
       "        text-align: right;\n",
       "    }\n",
       "</style>\n",
       "<table border=\"1\" class=\"dataframe\">\n",
       "  <thead>\n",
       "    <tr style=\"text-align: right;\">\n",
       "      <th></th>\n",
       "      <th>log_date</th>\n",
       "      <th>log_checkin</th>\n",
       "      <th>log_checkout</th>\n",
       "      <th>log_member_id</th>\n",
       "      <th>log_member_name</th>\n",
       "      <th>log_count</th>\n",
       "    </tr>\n",
       "  </thead>\n",
       "  <tbody>\n",
       "    <tr>\n",
       "      <th>0</th>\n",
       "      <td>2023-03-09</td>\n",
       "      <td>2023-03-09 00:00:00+00:00</td>\n",
       "      <td>2023-03-09 18:43:00+00:00</td>\n",
       "      <td>1210221K</td>\n",
       "      <td>KOUASSI Adrien</td>\n",
       "      <td>1</td>\n",
       "    </tr>\n",
       "    <tr>\n",
       "      <th>1</th>\n",
       "      <td>2023-03-09</td>\n",
       "      <td>2023-03-09 11:45:00+00:00</td>\n",
       "      <td>2023-03-09 17:02:00+00:00</td>\n",
       "      <td>1180820K</td>\n",
       "      <td>KABLAN Jean Claude</td>\n",
       "      <td>7</td>\n",
       "    </tr>\n",
       "    <tr>\n",
       "      <th>2</th>\n",
       "      <td>2023-03-09</td>\n",
       "      <td>2023-03-09 11:02:00+00:00</td>\n",
       "      <td>2023-03-09 11:01:00+00:00</td>\n",
       "      <td>1230521B</td>\n",
       "      <td>BEN Mourad</td>\n",
       "      <td>2</td>\n",
       "    </tr>\n",
       "    <tr>\n",
       "      <th>3</th>\n",
       "      <td>2023-03-09</td>\n",
       "      <td>2023-03-09 00:00:00+00:00</td>\n",
       "      <td>2023-03-09 17:20:00+00:00</td>\n",
       "      <td>2140820M</td>\n",
       "      <td>MANOUAN Nina Epse KONE</td>\n",
       "      <td>1</td>\n",
       "    </tr>\n",
       "    <tr>\n",
       "      <th>4</th>\n",
       "      <td>2023-03-09</td>\n",
       "      <td>2023-03-09 10:26:00+00:00</td>\n",
       "      <td>2023-03-09 12:33:00+00:00</td>\n",
       "      <td>1110720K</td>\n",
       "      <td>KOSSIKE Kango Séraphin</td>\n",
       "      <td>6</td>\n",
       "    </tr>\n",
       "  </tbody>\n",
       "</table>\n",
       "</div>"
      ],
      "text/plain": [
       "    log_date               log_checkin              log_checkout  \\\n",
       "0 2023-03-09 2023-03-09 00:00:00+00:00 2023-03-09 18:43:00+00:00   \n",
       "1 2023-03-09 2023-03-09 11:45:00+00:00 2023-03-09 17:02:00+00:00   \n",
       "2 2023-03-09 2023-03-09 11:02:00+00:00 2023-03-09 11:01:00+00:00   \n",
       "3 2023-03-09 2023-03-09 00:00:00+00:00 2023-03-09 17:20:00+00:00   \n",
       "4 2023-03-09 2023-03-09 10:26:00+00:00 2023-03-09 12:33:00+00:00   \n",
       "\n",
       "  log_member_id         log_member_name  log_count  \n",
       "0      1210221K          KOUASSI Adrien          1  \n",
       "1      1180820K      KABLAN Jean Claude          7  \n",
       "2      1230521B              BEN Mourad          2  \n",
       "3      2140820M  MANOUAN Nina Epse KONE          1  \n",
       "4      1110720K  KOSSIKE Kango Séraphin          6  "
      ]
     },
     "execution_count": 10,
     "metadata": {},
     "output_type": "execute_result"
    }
   ],
   "source": [
    "presences.head()"
   ]
  }
 ],
 "metadata": {
  "kernelspec": {
   "display_name": ".venv",
   "language": "python",
   "name": "python3"
  },
  "language_info": {
   "codemirror_mode": {
    "name": "ipython",
    "version": 3
   },
   "file_extension": ".py",
   "mimetype": "text/x-python",
   "name": "python",
   "nbconvert_exporter": "python",
   "pygments_lexer": "ipython3",
   "version": "3.9.6"
  },
  "orig_nbformat": 4
 },
 "nbformat": 4,
 "nbformat_minor": 2
}
