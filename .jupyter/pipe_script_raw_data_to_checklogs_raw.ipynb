{
 "cells": [
  {
   "cell_type": "markdown",
   "metadata": {},
   "source": [
    "Saves member daily checkin\n",
    "* Time data is in string but no need to save is in corresponding type to the db\n",
    "* Date data however should"
   ]
  },
  {
   "cell_type": "code",
   "execution_count": 1,
   "metadata": {},
   "outputs": [],
   "source": [
    "import os\n",
    "import sys\n",
    "import pandas as pd\n",
    "\n",
    "parent_dir = os.path.dirname(os.getcwd())\n",
    "sys.path.append(parent_dir)\n",
    "\n",
    "from src.utils.process_raw_data import filter_raw_log_data_remake"
   ]
  },
  {
   "cell_type": "code",
   "execution_count": 2,
   "metadata": {},
   "outputs": [],
   "source": [
    "link_raw = \"data/Original Records Report_JAN2023_à_JUIN 2023.csv\"\n",
    "link_filter = parent_dir + \"/src/utils/data/personnel_ARTI_2023_no_directors.csv\""
   ]
  },
  {
   "cell_type": "code",
   "execution_count": 3,
   "metadata": {},
   "outputs": [],
   "source": [
    "# Retruns raw filtered data, and the filter df\n",
    "logs_raw, data_filter = filter_raw_log_data_remake(link_raw, link_filter) "
   ]
  },
  {
   "cell_type": "code",
   "execution_count": 4,
   "metadata": {},
   "outputs": [],
   "source": [
    "def in_out(x):\n",
    "    if x[-1:]==\"1\": return \"IN\"\n",
    "    if x[-1:]==\"2\": return \"OUT\"\n",
    "\n",
    "logs_raw[\"Gate\"] = logs_raw['Attendance Check Point'].map(lambda x: in_out(x))\n",
    "logs_raw[\"Date\"] = logs_raw.Time.map(lambda x: x.split(\" \")[0])\n",
    "logs_raw[\"Hour\"] = logs_raw.Time.map(lambda x: x.split(\" \")[1])\n",
    "\n",
    "df = logs_raw[[\"matricule\",\"base\",\"Date\",\"Hour\",\"Gate\",]].copy()\n",
    "df.dropna(inplace=True)\n",
    "df.rename(columns={\"matricule\":\"log_member_id\",\"base\":\"log_member_name\",\n",
    "                   \"Date\":\"log_date\",\"Hour\":\"log_time\",\"Gate\":\"log_gate\"}, inplace=True)\n",
    "df[\"log_date\"] = pd.to_datetime(df[\"log_date\"])"
   ]
  },
  {
   "cell_type": "code",
   "execution_count": 5,
   "metadata": {},
   "outputs": [
    {
     "data": {
      "text/html": [
       "<div>\n",
       "<style scoped>\n",
       "    .dataframe tbody tr th:only-of-type {\n",
       "        vertical-align: middle;\n",
       "    }\n",
       "\n",
       "    .dataframe tbody tr th {\n",
       "        vertical-align: top;\n",
       "    }\n",
       "\n",
       "    .dataframe thead th {\n",
       "        text-align: right;\n",
       "    }\n",
       "</style>\n",
       "<table border=\"1\" class=\"dataframe\">\n",
       "  <thead>\n",
       "    <tr style=\"text-align: right;\">\n",
       "      <th></th>\n",
       "      <th>log_member_id</th>\n",
       "      <th>log_member_name</th>\n",
       "      <th>log_date</th>\n",
       "      <th>log_time</th>\n",
       "      <th>log_gate</th>\n",
       "    </tr>\n",
       "  </thead>\n",
       "  <tbody>\n",
       "    <tr>\n",
       "      <th>259</th>\n",
       "      <td>1390722B</td>\n",
       "      <td>ERIC BAILLY THEODORE</td>\n",
       "      <td>2023-03-10</td>\n",
       "      <td>11:26:03</td>\n",
       "      <td>OUT</td>\n",
       "    </tr>\n",
       "  </tbody>\n",
       "</table>\n",
       "</div>"
      ],
      "text/plain": [
       "    log_member_id       log_member_name   log_date  log_time log_gate\n",
       "259      1390722B  ERIC BAILLY THEODORE 2023-03-10  11:26:03      OUT"
      ]
     },
     "execution_count": 5,
     "metadata": {},
     "output_type": "execute_result"
    }
   ],
   "source": [
    "df.head(1)"
   ]
  },
  {
   "cell_type": "markdown",
   "metadata": {},
   "source": [
    "Insert data into mongodb"
   ]
  },
  {
   "cell_type": "code",
   "execution_count": 6,
   "metadata": {},
   "outputs": [
    {
     "data": {
      "text/plain": [
       "<pymongo.results.InsertManyResult at 0x7f20e4258670>"
      ]
     },
     "execution_count": 6,
     "metadata": {},
     "output_type": "execute_result"
    }
   ],
   "source": [
    "from src.config.db import nlogsrawdb\n",
    "nlogsrawdb.insert_many(df.to_dict(orient=\"records\"))"
   ]
  }
 ],
 "metadata": {
  "kernelspec": {
   "display_name": ".venv",
   "language": "python",
   "name": "python3"
  },
  "language_info": {
   "codemirror_mode": {
    "name": "ipython",
    "version": 3
   },
   "file_extension": ".py",
   "mimetype": "text/x-python",
   "name": "python",
   "nbconvert_exporter": "python",
   "pygments_lexer": "ipython3",
   "version": "3.10.6"
  },
  "orig_nbformat": 4
 },
 "nbformat": 4,
 "nbformat_minor": 2
}
