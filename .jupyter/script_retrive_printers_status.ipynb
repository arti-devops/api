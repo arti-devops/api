{
 "cells": [
  {
   "cell_type": "code",
   "execution_count": 19,
   "metadata": {},
   "outputs": [],
   "source": [
    "import requests, json\n",
    "from bs4 import BeautifulSoup"
   ]
  },
  {
   "cell_type": "code",
   "execution_count": 20,
   "metadata": {},
   "outputs": [],
   "source": [
    "# Liste des adresses IP de l'imprimante\n",
    "PRINTER_IPS = ['ip-dcp.local','ip-dg.local','ip-dgpecrp.local']\n",
    "# Liste des noms des cartouches à rechercher\n",
    "CARTRIDGES = ['Cartouche Jaune', 'Cartouche noir', 'Cartouche Cyan', 'Cartouche Magenta']"
   ]
  },
  {
   "cell_type": "code",
   "execution_count": 21,
   "metadata": {},
   "outputs": [],
   "source": [
    "def get_printer_status(printer_ip):\n",
    "    printer_url = f'http://{printer_ip}/info_suppliesStatus.html?tab=Home&menu=SupplyStatus'\n",
    "\n",
    "    try:\n",
    "        # Effectuer une requête GET à l'URL\n",
    "        response = requests.get(printer_url, timeout=0.1)\n",
    "        response.raise_for_status()  # Vérifier si la requête a réussi\n",
    "        return response.content\n",
    "    except requests.exceptions.RequestException as e:\n",
    "        #print(f\"La requête pour l'imprimante {printer_ip} a échoué:\", e)\n",
    "        return None"
   ]
  },
  {
   "cell_type": "code",
   "execution_count": 22,
   "metadata": {},
   "outputs": [],
   "source": [
    "printer_page = get_printer_status(PRINTER_IPS[1])"
   ]
  },
  {
   "cell_type": "code",
   "execution_count": 23,
   "metadata": {},
   "outputs": [],
   "source": [
    "def parse_printer_status(content):\n",
    "    if content is None:\n",
    "        return None\n",
    "\n",
    "    try:\n",
    "        soup = BeautifulSoup(content, 'html.parser')\n",
    "\n",
    "        cartridges_found = False\n",
    "        cartridge_status = []\n",
    "\n",
    "        # Trouver tous les éléments <td> avec la classe CSS \"SupplyName width65\"\n",
    "        td_elements = soup.find_all('td', {'class': 'SupplyName width65'})\n",
    "        for td_element in td_elements:\n",
    "            nom_cartouche = td_element.contents[0].strip()\n",
    "            if nom_cartouche in CARTRIDGES:\n",
    "                # Trouver le prochain élément <td> avec la classe CSS \"SupplyName width35 alignRight\"\n",
    "                td_status = td_element.find_next('td', {'class': 'SupplyName width35 alignRight'})\n",
    "                if td_status:\n",
    "                    etat_texte = td_status.get_text(strip=True)\n",
    "                    etat_texte = etat_texte.replace('*', '')\n",
    "\n",
    "                    # Remove special characters\n",
    "                    etat_texte = ''.join(c for c in etat_texte if c.isalnum() or c.isspace())\n",
    "\n",
    "                    # Ajouter l'état de la cartouche à la liste\n",
    "                    cartridge_status.append({\n",
    "                        'cartouche': nom_cartouche,\n",
    "                        'status': etat_texte\n",
    "                    })\n",
    "\n",
    "                cartridges_found = True\n",
    "\n",
    "        if not cartridges_found:\n",
    "            return []\n",
    "\n",
    "        return cartridge_status\n",
    "    except Exception as e:\n",
    "        print(\"Une erreur s'est produite lors de l'analyse de la page:\", e)\n",
    "        return None"
   ]
  },
  {
   "cell_type": "code",
   "execution_count": 24,
   "metadata": {},
   "outputs": [
    {
     "data": {
      "text/plain": [
       "[{'cartouche': 'Cartouche noir',\n",
       "  'status': '90\\n                                        \\n                                            '},\n",
       " {'cartouche': 'Cartouche Cyan',\n",
       "  'status': '100\\n                            \\n                            '},\n",
       " {'cartouche': 'Cartouche Magenta',\n",
       "  'status': '100\\n                            \\n                            '},\n",
       " {'cartouche': 'Cartouche Jaune',\n",
       "  'status': '100\\n                            \\n                            '}]"
      ]
     },
     "execution_count": 24,
     "metadata": {},
     "output_type": "execute_result"
    }
   ],
   "source": [
    "printer_levels = parse_printer_status(printer_page)\n",
    "printer_levels"
   ]
  },
  {
   "cell_type": "code",
   "execution_count": 25,
   "metadata": {},
   "outputs": [],
   "source": [
    "def printer_status(PRINTER_IPS):\n",
    "    printer_statuses = []\n",
    "\n",
    "    # Parcourir les adresses IP de l'imprimante\n",
    "    for printer_ip in PRINTER_IPS:\n",
    "        # Obtenir l'état de l'imprimante\n",
    "        response_content = get_printer_status(printer_ip)\n",
    "\n",
    "        # Analyser l'état de l'imprimante\n",
    "        parsed_status = parse_printer_status(response_content)\n",
    "\n",
    "        if parsed_status is not None:\n",
    "            printer_statuses.append({\n",
    "                'ip': printer_ip,\n",
    "                'status': parsed_status\n",
    "            })\n",
    "\n",
    "    return printer_statuses"
   ]
  },
  {
   "cell_type": "markdown",
   "metadata": {},
   "source": [
    "## Sequential code Exce"
   ]
  },
  {
   "cell_type": "code",
   "execution_count": 26,
   "metadata": {},
   "outputs": [],
   "source": [
    "import re"
   ]
  },
  {
   "cell_type": "code",
   "execution_count": 29,
   "metadata": {},
   "outputs": [],
   "source": [
    "ps = printer_status(PRINTER_IPS)"
   ]
  },
  {
   "cell_type": "code",
   "execution_count": 30,
   "metadata": {},
   "outputs": [
    {
     "data": {
      "text/plain": [
       "'[{\"ip\":\"ip-dcp.local\",\"status\":[{\"cartouche\":\"Cartoucheoir\",\"status\":\"90\"},{\"cartouche\":\"CartoucheCya\",\"status\":\"100\"},{\"cartouche\":\"CartoucheMageta\",\"status\":\"100\"},{\"cartouche\":\"CartoucheJaue\",\"status\":\"100\"}]},{\"ip\":\"ip-dg.local\",\"status\":[{\"cartouche\":\"Cartoucheoir\",\"status\":\"100\"},{\"cartouche\":\"CartoucheCya\",\"status\":\"100\"},{\"cartouche\":\"CartoucheMageta\",\"status\":\"100\"},{\"cartouche\":\"CartoucheJaue\",\"status\":\"100\"}]},{\"ip\":\"ip-dgpecrp.local\",\"status\":[{\"cartouche\":\"Cartoucheoir\",\"status\":\"90\"},{\"cartouche\":\"CartoucheCya\",\"status\":\"100\"},{\"cartouche\":\"CartoucheMageta\",\"status\":\"100\"},{\"cartouche\":\"CartoucheJaue\",\"status\":\"100\"}]}]'"
      ]
     },
     "execution_count": 30,
     "metadata": {},
     "output_type": "execute_result"
    }
   ],
   "source": [
    "# Remove white spaces and special characters from the data\n",
    "data_json = json.dumps(ps, separators=(',', ':'), ensure_ascii=False)\n",
    "data_json = re.sub(r'[\\s\\\\n]+', '', data_json)\n",
    "data_json"
   ]
  }
 ],
 "metadata": {
  "kernelspec": {
   "display_name": ".venv",
   "language": "python",
   "name": "python3"
  },
  "language_info": {
   "codemirror_mode": {
    "name": "ipython",
    "version": 3
   },
   "file_extension": ".py",
   "mimetype": "text/x-python",
   "name": "python",
   "nbconvert_exporter": "python",
   "pygments_lexer": "ipython3",
   "version": "3.10.6"
  },
  "orig_nbformat": 4
 },
 "nbformat": 4,
 "nbformat_minor": 2
}
